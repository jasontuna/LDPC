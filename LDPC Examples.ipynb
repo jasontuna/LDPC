{
 "cells": [
  {
   "cell_type": "markdown",
   "metadata": {},
   "source": [
    "# LDPC Code Generation and Message Passing Decoding for Binary Symmetric, Binary Erasure, and BIAWGN Channels"
   ]
  },
  {
   "cell_type": "code",
   "execution_count": 2,
   "metadata": {
    "collapsed": false
   },
   "outputs": [],
   "source": [
    "\n",
    "using Distributions\n",
    "using LDPC\n",
    "using PyPlot"
   ]
  },
  {
   "cell_type": "markdown",
   "metadata": {},
   "source": [
    "### In this segment, we approximate the erasure threshold for a given LDPC code using binary search."
   ]
  },
  {
   "cell_type": "code",
   "execution_count": 3,
   "metadata": {
    "collapsed": false
   },
   "outputs": [
    {
     "name": "stdout",
     "output_type": "stream",
     "text": [
      "The erasure threshold for a (3,6) ldpc code is approximately 0.4294398142956197\n"
     ]
    }
   ],
   "source": [
    "#First we choose the variable and check node degrees for a regular (3,6) code\n",
    "dv=3\n",
    "dc=6\n",
    "\n",
    "#Now we represent the lambda and rho polynomials as arrays\n",
    "lam=zeros(Float64,1,2)\n",
    "lam[:,1]=[1]\n",
    "lam[:,2]=[2]\n",
    "\n",
    "rho=zeros(Float64,1,2)\n",
    "rho[:,1]=[1]\n",
    "rho[:,2]=[5]\n",
    "\n",
    "#note this is an approximation, and to increase the # of significant digits, gradually increase the last two entries\n",
    "println(\"The erasure threshold for a ($dv,$dc) ldpc code is approximately $(calc_erasure_thresh(lam,rho,30,1000000))\")\n"
   ]
  },
  {
   "cell_type": "code",
   "execution_count": 4,
   "metadata": {
    "collapsed": false
   },
   "outputs": [
    {
     "name": "stdout",
     "output_type": "stream",
     "text": [
      "The erasure threshold is approximately 0.4205844904904552\n"
     ]
    }
   ],
   "source": [
    "#Now we estimate the erasure threshold for an irregular ldpc code from \n",
    "#Exact thresholds for low-density parity-check codes over the binary erasure channel\n",
    "#Jianjun Mu, Xiaopeng Jiao, Xinmei Wang \n",
    "#http://www.sciencedirect.com/science/article/pii/S1002007109001051\n",
    "#(lambda\",rho\") in table 1\n",
    "ilam=zeros(Float64,3,2)\n",
    "ilam[:,1]=[0.4706;0.2353;0.2941]\n",
    "ilam[:,2]=[2;7;29]\n",
    "\n",
    "irho=zeros(Float64,2,2)\n",
    "irho[:,1]=[0.7843; 0.2157]\n",
    "irho[:,2]=[9;10]\n",
    "\n",
    "\n",
    "println(\"The erasure threshold is approximately $(calc_erasure_thresh(ilam,irho,40,1e5))\")\n"
   ]
  },
  {
   "cell_type": "markdown",
   "metadata": {},
   "source": [
    "### We use the parity check matrix in example 3 given in R/U Efficient Encoding of Low-Density Parity-Check Codes"
   ]
  },
  {
   "cell_type": "code",
   "execution_count": 5,
   "metadata": {
    "collapsed": false
   },
   "outputs": [
    {
     "name": "stdout",
     "output_type": "stream",
     "text": [
      "The codeword for the original matrix is UInt8[0x01,0x00,0x00,0x00,0x01,0x00,0x00,0x01,0x00,0x00,0x01,0x00]\n",
      "Observe that (sk,p1,p2)=UInt8[0x01,0x00,0x00,0x00,0x00,0x00,0x00,0x01,0x01,0x00,0x01,0x00]\n"
     ]
    }
   ],
   "source": [
    "#since we are given a parity check matrix, we initialize a ldpcH type with H\n",
    "H=zeros(Uint8,6,12)\n",
    "H[1,:]=[1 1 1 0 0 1 1 0 1 0 0 0]\n",
    "H[2,:]=[1 1 1 1 0 0 0 1 0 1 0 0]\n",
    "H[3,:]=[0 0 0 0 1 1 1 0 1 1 1 0]\n",
    "H[4,:]=[1 0 0 1 1 0 0 0 0 1 1 1]\n",
    "H[5,:]=[0 1 0 1 0 0 1 1 0 0 1 1]\n",
    "H[6,:]=[0 0 1 0 1 1 0 1 1 0 0 1]\n",
    "n=12\n",
    "LH=ldpcH(H)\n",
    "\n",
    "#for bookkeeping we let ourselves know LH is in RU form\n",
    "LH.htype=\"RU\"\n",
    "LH.ruperm=zeros(Int64,12)\n",
    "#[1 2 3 4 10 6 7 5 11 12  8  9]\n",
    "# 1 2 3 4  5 6 7 8  9 10 11 12\n",
    "LH.ruperm[:]=[1 2 3 4 8 6 7 11 12 5 9 10]\n",
    "#now we set Phi^(-1)\n",
    "LH.phin=zeros(Uint8,2,2)\n",
    "LH.phin[:]=[ 1 1 0 1]\n",
    "LH.phin=minvmod(LH.phin,2)\n",
    "\n",
    "#now we encode the corresponding source message as in the paper\n",
    "sk=zeros(Uint8,6)\n",
    "sk[:]=[1 0 0 0 0 0]\n",
    "xn= ldpcRUenc(LH,sk)\n",
    "println(\"The codeword for the original matrix is $((xn))\")\n",
    "txn=zeros(Uint8,n)\n",
    "for i=1:LH.n\n",
    "    txn[LH.ruperm[i]]=xn[i] \n",
    "end\n",
    "println(\"Observe that (sk,p1,p2)=$((txn))\")\n"
   ]
  },
  {
   "cell_type": "markdown",
   "metadata": {},
   "source": [
    "### Here we initialize a ldpcH type from an alist file off of David MacKay's website"
   ]
  },
  {
   "cell_type": "code",
   "execution_count": 7,
   "metadata": {
    "collapsed": false,
    "scrolled": true
   },
   "outputs": [
    {
     "name": "stdout",
     "output_type": "stream",
     "text": [
      "The theoretically achievable gap is 9.0, and the resulting gap is 8.\n",
      "\n",
      "We have encoded sk\n",
      "Note that xn is a codeword of LH not neccessarily LHru\n",
      "(Is xn a codeword of LH)=true\n",
      "(Is xn a codeword of LHru)=false\n"
     ]
    }
   ],
   "source": [
    "\n",
    "#download the file 96.33.964 from\n",
    "# http://www.inference.phy.cam.ac.uk/mackay/codes/EN/C/96.33.964 \n",
    "#then create a ldpcH type\n",
    "LH=ldpcH(\"120.64.3.109.txt\")\n",
    "#now we put LH into Rudiger/Urbanke form , and choose an \"optimistic\" gap \n",
    "#see http://www.ldpc-codes.com/papers/encoding.pdf\n",
    "optimistic_gap=5\n",
    "LHru=calc_RU(LH,optimistic_gap)\n",
    "println(\"\")\n",
    "#now we can encode a source vector\n",
    "sk=zeros(Uint8,LH.k)\n",
    "sk[1]=1\n",
    "\n",
    "#Observe we use LHru to encode, and will use LH for message passing algorithms\n",
    "xn=ldpcRUenc(LHru,sk)\n",
    "println(\"We have encoded sk\")\n",
    "println(\"Note that xn is a codeword of LH not neccessarily LHru\")\n",
    "println(\"(Is xn a codeword of LH)=$(convert(Bool,isCW(LH,xn)))\")\n",
    "println(\"(Is xn a codeword of LHru)=$(convert(Bool,isCW(LHru,xn)))\")"
   ]
  },
  {
   "cell_type": "markdown",
   "metadata": {
    "collapsed": false
   },
   "source": [
    "### Here we Generate a random (3,6) parity check matrix, and put it into RU form\n"
   ]
  },
  {
   "cell_type": "code",
   "execution_count": 9,
   "metadata": {
    "collapsed": false,
    "scrolled": false
   },
   "outputs": [
    {
     "name": "stdout",
     "output_type": "stream",
     "text": [
      "Code has rate 0.5 \n",
      "The (3,6)-code must have girth greater then 6.249877473216599\n",
      "We were successfull and will continue\n",
      "The theoretically achievable gap is 70.0, and the resulting gap is 61.\n",
      "We were successful\n"
     ]
    }
   ],
   "source": [
    "#set channel /code parameters\n",
    "n=1000\n",
    "dv=3\n",
    "dc=6\n",
    "m=round(Int,n*dv/dc)\n",
    "k=n-m\n",
    "LH=ldpcH\n",
    "mg=ceil(Integer,2*ell(dv,dc,n))\n",
    "println(\"Code has rate $(k/n) \")\n",
    "println(\"The ($dv,$dc)-code must have girth greater then $(2*ell(dv,dc,n))\")\n",
    "\n",
    "#we attempt to randomly generate a (3,6) parity check matrix.\n",
    "#this might have to be run several times\n",
    "\n",
    "#we initialize girth6=true to specify that the code will have girth > 4\n",
    "girth6=true\n",
    "\n",
    "LH = ldpcH(ones(Uint8,n)*dv,ones(Uint8,m)*dc,girth6);\n",
    "\n",
    "\n",
    "if LH != false\n",
    "    println(\"We were successfull and will continue\")\n",
    "    #as shown in the corresponding paper, on average using algorithm AH, the expected gap for a (3,6) code\n",
    "    #is approximately  0.07*n for (3,6) LDPC code\n",
    "    tgap=round(Int64,0.07*n)\n",
    "    LHru=calc_RU(LH,tgap)\n",
    "    if LHru != false\n",
    "        println(\"We were successful\")\n",
    "    else\n",
    "        println(\"Please rerun\")\n",
    "\n",
    "    end\n",
    "    \n",
    "else\n",
    "    println(\"Please rerun\")\n",
    "end"
   ]
  },
  {
   "cell_type": "markdown",
   "metadata": {},
   "source": [
    "### Here we calculate the minimum cycle length at a particular variable node, and then calculate the girth."
   ]
  },
  {
   "cell_type": "code",
   "execution_count": 10,
   "metadata": {
    "collapsed": false
   },
   "outputs": [
    {
     "name": "stdout",
     "output_type": "stream",
     "text": [
      "The cycle is [1,1406,674,1125,157,1400]\n",
      "The second element in the cycle corresponds to check node 1406-1000 = 406\n",
      "The girth of LH is 6\n"
     ]
    }
   ],
   "source": [
    "#This function returns a minimal length cycle that includes the corresponding variable node\n",
    "#Note the format is odd locations are variable nodes\n",
    "# and even locations are check nodes. To get the corresponding check node number\n",
    "#subtract  LH.n\n",
    "\n",
    "tem=calc_mcycle(LH,1)\n",
    "println(\"The cycle is $tem\")\n",
    "println(\"The second element in the cycle corresponds to check node $(tem[2])-$(LH.n) = $(tem[2]-LH.n)\")\n",
    "\n",
    "#now we calculate the girth\n",
    "println(\"The girth of LH is $(calc_girth(LH))\")"
   ]
  },
  {
   "cell_type": "markdown",
   "metadata": {},
   "source": [
    "\n",
    "## Using the previous initialized parity check matrix, we generate a random message, pass it through the erasure channel, and then use message passing to decode"
   ]
  },
  {
   "cell_type": "code",
   "execution_count": 11,
   "metadata": {
    "collapsed": false
   },
   "outputs": [
    {
     "name": "stdout",
     "output_type": "stream",
     "text": [
      "The # of erasures is 325\n",
      "The # of erasures after message passing decoding is 0\n",
      " n=1000 #right= 1000  BER= 0.0\n"
     ]
    }
   ],
   "source": [
    "sk=zeros(Uint8,LH.k)\n",
    "sk[:]=rand(Bernoulli(0.5),LH.k)   #source message\n",
    "#note here we encode with LHru, i.e. the parity check matrix in RU form\n",
    "#we do message passing with LH, i.e., the original parity check matrix \n",
    "xn=ldpcRUenc(LHru,sk); #encode using RU method\n",
    "\n",
    "n=LH.n\n",
    "maxi=100 #maximum iterations for message passing\n",
    "d=0.3 #erasure probability\n",
    "\n",
    "yn= bec(d,xn) #pass through erasure channel, erasures are denoted by 2\n",
    "\n",
    "cnt=0 \n",
    "for i=1:n #count the # of erasures\n",
    "    if yn[i]==2\n",
    "        cnt+=1\n",
    "    end\n",
    "end\n",
    "println(\"The # of erasures is $cnt\")\n",
    "\n",
    "xnp=bec_MPD(yn,LH,maxi) #run message passing for maxi iterations\n",
    " ne=0\n",
    "rgt=0\n",
    "for i=1:n \n",
    "    if xnp[i]==2\n",
    "        ne+=1 \n",
    "    end\n",
    "    if xnp[i] == xn[i]\n",
    "        rgt+=1\n",
    "    end\n",
    "end\n",
    "println(\"The # of erasures after message passing decoding is $ne\")\n",
    "println(\" n=$n #right= $rgt  BER= $(1.0-rgt/n)\")\n"
   ]
  },
  {
   "cell_type": "markdown",
   "metadata": {},
   "source": [
    "# Here we generate a random message, pass it through the binary symmetric channel, and then use message passing to decode"
   ]
  },
  {
   "cell_type": "code",
   "execution_count": 12,
   "metadata": {
    "collapsed": false
   },
   "outputs": [
    {
     "name": "stdout",
     "output_type": "stream",
     "text": [
      "The # of bit flips is 44\n",
      "# of flips after MPD 0\n",
      " n=1000 #right= 1000  BER= 0.0\n"
     ]
    }
   ],
   "source": [
    "sk=zeros(Uint8,LH.k)\n",
    "sk[:]=rand(Bernoulli(0.5),LH.k)   #source message\n",
    "k=LH.k\n",
    "maxi=1000 #maximum iterations for message passing\n",
    "d=0.04 #BSC probability\n",
    "\n",
    "xn=ldpcRUenc(LHru,sk); #encode using RU method\n",
    "yn= bsc(d,xn) \n",
    "\n",
    "cnt=0 \n",
    "for i=1:n #count the # of flips\n",
    "    if yn[i] != xn[i]\n",
    "        cnt+=1\n",
    "    end\n",
    "end\n",
    "println(\"The # of bit flips is $cnt\")\n",
    "\n",
    "xnp=bsc_MPD(yn,d,LH,maxi) #run message passing for maxi iterations\n",
    "             \n",
    "ne=0\n",
    "rgt=0\n",
    "for i=1:n \n",
    "    if xnp[i]!=xn[i]\n",
    "        ne+=1 \n",
    "    else\n",
    "        rgt+=1\n",
    "    end\n",
    "end\n",
    "println(\"# of flips after MPD $ne\")\n",
    "println(\" n=$n #right= $rgt  BER= $(1.0-rgt/n)\")"
   ]
  },
  {
   "cell_type": "markdown",
   "metadata": {
    "collapsed": false
   },
   "source": [
    "## Here we generate a random message, pass it through the BIAWGN channel, and then use message passing to decode"
   ]
  },
  {
   "cell_type": "code",
   "execution_count": 13,
   "metadata": {
    "collapsed": false
   },
   "outputs": [
    {
     "name": "stdout",
     "output_type": "stream",
     "text": [
      "The # of bit flips is 109\n",
      "# of flips after MPD 0\n",
      " n=1000 #right= 1000  BER= 0.0\n"
     ]
    }
   ],
   "source": [
    "sk=zeros(Uint8,LH.k)\n",
    "sk[:]=rand(Bernoulli(0.5),LH.k)   #source message\n",
    "n=LH.n\n",
    "maxi=500 #maximum iterations for message passing\n",
    "vr=0.8^2 #AWGN Variance \n",
    "\n",
    "xn=zeros(Uint8,n)#ldpcRUenc(LHru,sk); #encode using RU method\n",
    "yn= biawgn(vr,xn) \n",
    "\n",
    "cnt=0 \n",
    "for i=1:n #count the # of flips\n",
    "    if yn[i] <= 0  &&  xn[i]!=1\n",
    "        cnt+=1\n",
    "    elseif yn[i] > 0  &&  xn[i]!=0\n",
    "        cnt+=1\n",
    "    end\n",
    "end\n",
    "println(\"The # of bit flips is $cnt\")\n",
    "\n",
    "\n",
    "\n",
    "xnp=biawgn_MPD(yn,vr,LH,maxi) #run message passing for maxi iterations\n",
    "ne=0\n",
    "rgt=0\n",
    "for i=1:n \n",
    "    if xnp[i]!=xn[i]\n",
    "        ne+=1 \n",
    "    else\n",
    "        rgt+=1\n",
    "    end\n",
    "end\n",
    "println(\"# of flips after MPD $ne\")\n",
    "println(\" n=$n #right= $rgt  BER= $(1.0-rgt/n)\")"
   ]
  }
 ],
 "metadata": {
  "kernelspec": {
   "display_name": "Julia 0.4.0",
   "language": "julia",
   "name": "julia-0.4"
  },
  "language_info": {
   "file_extension": ".jl",
   "mimetype": "application/julia",
   "name": "julia",
   "version": "0.4.0"
  }
 },
 "nbformat": 4,
 "nbformat_minor": 0
}
