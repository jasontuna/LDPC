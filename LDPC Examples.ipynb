{
 "cells": [
  {
   "cell_type": "markdown",
   "metadata": {},
   "source": [
    "# LDPC Code Generation and Message Passing Decoding for Binary Symmetric, Binary Erasure, and BIAWGN Channels"
   ]
  },
  {
   "cell_type": "code",
   "execution_count": 1,
   "metadata": {
    "collapsed": false
   },
   "outputs": [],
   "source": [
    "using Distributions\n",
    "using LDPC"
   ]
  },
  {
   "cell_type": "markdown",
   "metadata": {},
   "source": [
    "### In this segment, we approximate the erasure threshold for a given LDPC code using binary search."
   ]
  },
  {
   "cell_type": "code",
   "execution_count": 2,
   "metadata": {
    "collapsed": false
   },
   "outputs": [
    {
     "name": "stdout",
     "output_type": "stream",
     "text": [
      "The erasure threshold for a (3,6) ldpc code is approximately 0.4294398142956197\n"
     ]
    }
   ],
   "source": [
    "#First we choose the variable and check node degrees for a regular (3,6) code\n",
    "dv=3\n",
    "dc=6\n",
    "\n",
    "#Now we represent the lambda and rho polynomials as arrays\n",
    "lam=zeros(Float64,1,2)\n",
    "lam[:,1]=[1.]\n",
    "lam[:,2]=[2]\n",
    "\n",
    "rho=zeros(Float64,1,2)\n",
    "rho[:,1]=[1]\n",
    "rho[:,2]=[5]\n",
    "\n",
    "#note this is an approximation, and to increase the # of significant digits, gradually increase the last two entries\n",
    "println(\"The erasure threshold for a ($dv,$dc) ldpc code is approximately $(calc_erasure_thresh(lam,rho,30,1000000))\")\n"
   ]
  },
  {
   "cell_type": "code",
   "execution_count": 3,
   "metadata": {
    "collapsed": false
   },
   "outputs": [
    {
     "name": "stdout",
     "output_type": "stream",
     "text": [
      "The erasure threshold for Ex. 7 in R/U Efficient Encoding is approximately 0.4701533317565918\n"
     ]
    }
   ],
   "source": [
    "#Now we estimate the erasure threshold for an irregular ldpc code\n",
    "\n",
    "ilam=zeros(Float64,2,2)\n",
    "ilam[:,1]=[0.637; 0.363]\n",
    "ilam[:,2]=[6;7]\n",
    "\n",
    "irho=zeros(Float64,4,2)\n",
    "irho[:,1]=[0.251; 0.309; 0.002; 0.438]\n",
    "irho[:,2]=[1;2;3;9]\n",
    "\n",
    "\n",
    "println(\"The erasure threshold for Ex. 7 in R/U Efficient Encoding is approximately $(calc_erasure_thresh(irho,ilam,20,10000))\")\n"
   ]
  },
  {
   "cell_type": "markdown",
   "metadata": {},
   "source": [
    "### We use the parity check matrix in example 3 given in R/U Efficient Encoding of Low-Density Parity-Check Codes"
   ]
  },
  {
   "cell_type": "code",
   "execution_count": 4,
   "metadata": {
    "collapsed": false
   },
   "outputs": [
    {
     "name": "stdout",
     "output_type": "stream",
     "text": [
      "The codeword for the original matrix is Uint8[1,0,0,0,1,0,0,1,0,0,1,0]\n",
      "Observe that (sk,p1,p2)=Uint8[1,0,0,0,0,0,0,1,1,0,1,0]\n"
     ]
    }
   ],
   "source": [
    "#since we are given a parity check matrix, we initialize a ldpcH type with H\n",
    "H=zeros(Uint8,6,12)\n",
    "H[1,:]=[1 1 1 0 0 1 1 0 1 0 0 0]\n",
    "H[2,:]=[1 1 1 1 0 0 0 1 0 1 0 0]\n",
    "H[3,:]=[0 0 0 0 1 1 1 0 1 1 1 0]\n",
    "H[4,:]=[1 0 0 1 1 0 0 0 0 1 1 1]\n",
    "H[5,:]=[0 1 0 1 0 0 1 1 0 0 1 1]\n",
    "H[6,:]=[0 0 1 0 1 1 0 1 1 0 0 1]\n",
    "n=12\n",
    "LH=ldpcH(H)\n",
    "\n",
    "#for bookkeeping we let ourselves know LH is in RU form\n",
    "LH.htype=\"RU\"\n",
    "LH.ruperm=zeros(Int64,12)\n",
    "#[1 2 3 4 10 6 7 5 11 12  8  9]\n",
    "# 1 2 3 4  5 6 7 8  9 10 11 12\n",
    "LH.ruperm[:]=[1 2 3 4 8 6 7 11 12 5 9 10]\n",
    "#now we set Phi^(-1)\n",
    "LH.phin=zeros(Uint8,2,2)\n",
    "LH.phin[:]=[ 1 1 0 1]\n",
    "LH.phin=minvmod(LH.phin,2)\n",
    "\n",
    "#now we encode the corresponding source message as in the paper\n",
    "sk=zeros(Uint8,6)\n",
    "sk[:]=[1 0 0 0 0 0]\n",
    "xn= ldpcRUenc(LH,sk)\n",
    "println(\"The codeword for the original matrix is $xn\")\n",
    "txn=zeros(Uint8,n)\n",
    "for i=1:LH.n\n",
    "    txn[LH.ruperm[i]]=xn[i] \n",
    "end\n",
    "println(\"Observe that (sk,p1,p2)=$(txn)\")\n"
   ]
  },
  {
   "cell_type": "markdown",
   "metadata": {},
   "source": [
    "### Here we initialize a ldpcH type from an alist file off of David MacKay's website"
   ]
  },
  {
   "cell_type": "code",
   "execution_count": 5,
   "metadata": {
    "collapsed": false
   },
   "outputs": [
    {
     "name": "stdout",
     "output_type": "stream",
     "text": [
      "elapsed time: 1.228260151 seconds (68299348 bytes allocated, 5.82% gc time)\n",
      "The theoretically achievable gap is 6.0, and the resulting gap is 5.\n",
      "elapsed time: 1.532656851 seconds (129312732 bytes allocated, 3.90% gc time)\n",
      "We were successful\n"
     ]
    }
   ],
   "source": [
    "#download the file 96.33.964 from\n",
    "# http://www.inference.phy.cam.ac.uk/mackay/codes/EN/C/96.33.964 \n",
    "#then create a ldpcH type\n",
    "@time LH=ldpcH(\"96.33.964\")\n",
    "\n",
    "#now we put LH into Rudiger/Urbanke form , and choose an \"optimistic\" gap \n",
    "#see http://www.ldpc-codes.com/papers/encoding.pdf\n",
    "\n",
    "tgap=7\n",
    "#observe calc_RU returns a ldpcH object stored in RU form\n",
    "#It is not neccessary to use R/U form\n",
    "#For running simulations on code properties it suffices to work with the all zero codeword, if the channel/source are memoryless.\n",
    "#But here we show how to encode\n",
    "\n",
    "@time LHru=calc_RU(LH,tgap)\n",
    "if LHru != false\n",
    "    println(\"We were successful\")\n",
    "end\n",
    "\n"
   ]
  },
  {
   "cell_type": "code",
   "execution_count": 6,
   "metadata": {
    "collapsed": false
   },
   "outputs": [
    {
     "name": "stdout",
     "output_type": "stream",
     "text": [
      "We have encoded sk\n",
      "Note that xn is a codeword of LH not neccessarily LHru\n",
      "(Is xn a codeword of LH)=true\n",
      "(Is xn a codeword of LHru)=false\n"
     ]
    }
   ],
   "source": [
    "\n",
    "#now we can encode a source vector\n",
    "sk=zeros(Uint8,LH.k)\n",
    "sk[1]=1\n",
    "\n",
    "#Observe we use LHru to encode, and will use LH for message passing algorithms\n",
    "xn=ldpcRUenc(LHru,sk)\n",
    "println(\"We have encoded sk\")\n",
    "println(\"Note that xn is a codeword of LH not neccessarily LHru\")\n",
    "println(\"(Is xn a codeword of LH)=$(bool(isCW(LH,xn)))\")\n",
    "println(\"(Is xn a codeword of LHru)=$(bool(isCW(LHru,xn)))\")"
   ]
  },
  {
   "cell_type": "markdown",
   "metadata": {
    "collapsed": false
   },
   "source": [
    "### Here we Generate a random (3,6) parity check matrix, and put it into RU form\n"
   ]
  },
  {
   "cell_type": "code",
   "execution_count": 8,
   "metadata": {
    "collapsed": false,
    "scrolled": false
   },
   "outputs": [
    {
     "name": "stdout",
     "output_type": "stream",
     "text": [
      "Code has rate 0.5 \n",
      "The (3,6)-code must have girth greater then 6.249877473216599\n",
      "We were successfull and will continue\n",
      "The theoretically achievable gap is 70.0, and the resulting gap is 66.\n",
      "We were successful\n",
      "We have encoded sk\n"
     ]
    }
   ],
   "source": [
    "#set channel /code parameters\n",
    "n=1000\n",
    "dv=3\n",
    "dc=6\n",
    "m=int64(n*dv/dc)\n",
    "k=n-m\n",
    "LH=ldpcH\n",
    "mg=iceil(2*ell(dv,dc,n))\n",
    "println(\"Code has rate $(k/n) \")\n",
    "println(\"The ($dv,$dc)-code must have girth greater then $(2*ell(dv,dc,n))\")\n",
    "\n",
    "#we attempt to randomly generate a (3,6) parity check matrix.\n",
    "#this might have to be run several times\n",
    "LH = ldpcH(ones(Uint8,n)*dv,ones(Uint8,m)*dc);\n",
    "if LH != false\n",
    "    println(\"We were successfull and will continue\")\n",
    "    #as shown in the corresponding paper, on average using algorithm AH, the expected gap for a (3,6) code\n",
    "    #is approximately  0.07*n\n",
    "    tgap=70\n",
    "    LHru=calc_RU(LH,tgap)\n",
    "    if LHru != false\n",
    "        println(\"We were successful\")\n",
    "    end\n",
    "    #now we can encode a source vector\n",
    "    sk=zeros(Uint8,LH.k)\n",
    "    sk[1]=1\n",
    "    xn=ldpcRUenc(LHru,sk);\n",
    "    println(\"We have encoded sk\")\n",
    "else\n",
    "    println(\"Please rerun\")\n",
    "end"
   ]
  },
  {
   "cell_type": "markdown",
   "metadata": {},
   "source": [
    "\n",
    "## Using the previous initialized parity check matrix, we generate a random message, pass it through the erasure channel, and then use message passing to decode"
   ]
  },
  {
   "cell_type": "code",
   "execution_count": 9,
   "metadata": {
    "collapsed": false
   },
   "outputs": [
    {
     "name": "stdout",
     "output_type": "stream",
     "text": [
      "The # of erasures is 297\n",
      "The # of erasures after message passing decoding is 0\n",
      " n=1000 #right= 1000  BER= 0.0\n"
     ]
    }
   ],
   "source": [
    "sk=zeros(Uint8,LH.k)\n",
    "sk[:]=rand(Bernoulli(0.5),LH.k)   #source message\n",
    "#note here we encode with LHru, i.e. the parity check matrix in RU form\n",
    "#we do message passing with LH, i.e., the original parity check matrix \n",
    "xn=ldpcRUenc(LHru,sk); #encode using RU method\n",
    "\n",
    "n=LH.n\n",
    "maxi=100 #maximum iterations for message passing\n",
    "d=0.3 #erasure probability\n",
    "\n",
    "yn= bec(d,xn) #pass through erasure channel, erasures are denoted by 2\n",
    "\n",
    "cnt=0 \n",
    "for i=1:n #count the # of erasures\n",
    "    if yn[i]==2\n",
    "        cnt+=1\n",
    "    end\n",
    "end\n",
    "println(\"The # of erasures is $cnt\")\n",
    "\n",
    "xnp=bec_MPD(yn,LH,maxi) #run message passing for maxi iterations\n",
    " ne=0\n",
    "rgt=0\n",
    "for i=1:n \n",
    "    if xnp[i]==2\n",
    "        ne+=1 \n",
    "    end\n",
    "    if xnp[i] == xn[i]\n",
    "        rgt+=1\n",
    "    end\n",
    "end\n",
    "println(\"The # of erasures after message passing decoding is $ne\")\n",
    "println(\" n=$n #right= $rgt  BER= $(1.0-rgt/n)\")\n"
   ]
  },
  {
   "cell_type": "markdown",
   "metadata": {},
   "source": [
    "# Here we generate a random message, pass it through the binary symmetric channel, and then use message passing to decode"
   ]
  },
  {
   "cell_type": "code",
   "execution_count": 10,
   "metadata": {
    "collapsed": false
   },
   "outputs": [
    {
     "name": "stdout",
     "output_type": "stream",
     "text": [
      "The # of bit flips is 39\n",
      "# of flips after MPD 0\n",
      " n=1000 #right= 1000  BER= 0.0\n"
     ]
    }
   ],
   "source": [
    "sk=zeros(Uint8,LH.k)\n",
    "sk[:]=rand(Bernoulli(0.5),LH.k)   #source message\n",
    "k=LH.k\n",
    "maxi=1000 #maximum iterations for message passing\n",
    "d=0.04 #BSC probability\n",
    "\n",
    "xn=ldpcRUenc(LHru,sk); #encode using RU method\n",
    "yn= bsc(d,xn) \n",
    "\n",
    "cnt=0 \n",
    "for i=1:n #count the # of flips\n",
    "    if yn[i] != xn[i]\n",
    "        cnt+=1\n",
    "    end\n",
    "end\n",
    "println(\"The # of bit flips is $cnt\")\n",
    "\n",
    "xnp=bsc_MPD(yn,d,LH,maxi) #run message passing for maxi iterations\n",
    "             \n",
    "ne=0\n",
    "rgt=0\n",
    "for i=1:n \n",
    "    if xnp[i]!=xn[i]\n",
    "        ne+=1 \n",
    "    else\n",
    "        rgt+=1\n",
    "    end\n",
    "end\n",
    "println(\"# of flips after MPD $ne\")\n",
    "println(\" n=$n #right= $rgt  BER= $(1.0-rgt/n)\")"
   ]
  },
  {
   "cell_type": "markdown",
   "metadata": {
    "collapsed": false
   },
   "source": [
    "## Here we generate a random message, pass it through the BIAWGN channel, and then use message passing to decode"
   ]
  },
  {
   "cell_type": "code",
   "execution_count": 12,
   "metadata": {
    "collapsed": false
   },
   "outputs": [
    {
     "name": "stdout",
     "output_type": "stream",
     "text": [
      "The # of bit flips is 97\n",
      "# of flips after MPD 0\n",
      " n=1000 #right= 1000  BER= 0.0\n"
     ]
    }
   ],
   "source": [
    "sk=zeros(Uint8,LH.k)\n",
    "sk[:]=rand(Bernoulli(0.5),LH.k)   #source message\n",
    "n=LH.n\n",
    "maxi=500 #maximum iterations for message passing\n",
    "vr=0.8^2 #AWGN Variance \n",
    "\n",
    "xn=ldpcRUenc(LHru,sk); #encode using RU method\n",
    "yn= biawgn(vr,xn) \n",
    "\n",
    "cnt=0 \n",
    "for i=1:n #count the # of flips\n",
    "    if yn[i] <= 0  &&  xn[i]!=1\n",
    "        cnt+=1\n",
    "    elseif yn[i] > 0  &&  xn[i]!=0\n",
    "        cnt+=1\n",
    "    end\n",
    "end\n",
    "println(\"The # of bit flips is $cnt\")\n",
    "\n",
    "\n",
    "\n",
    "xnp=biawgn_MPD(yn,vr,LH,maxi) #run message passing for maxi iterations\n",
    "ne=0\n",
    "rgt=0\n",
    "for i=1:n \n",
    "    if xnp[i]!=xn[i]\n",
    "        ne+=1 \n",
    "    else\n",
    "        rgt+=1\n",
    "    end\n",
    "end\n",
    "println(\"# of flips after MPD $ne\")\n",
    "println(\" n=$n #right= $rgt  BER= $(1.0-rgt/n)\")"
   ]
  }
 ],
 "metadata": {
  "kernelspec": {
   "display_name": "Julia 0.3.11",
   "language": "julia",
   "name": "julia-0.3"
  },
  "language_info": {
   "name": "julia",
   "version": "0.3.9"
  }
 },
 "nbformat": 4,
 "nbformat_minor": 0
}
